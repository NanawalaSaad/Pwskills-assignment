{
  "nbformat": 4,
  "nbformat_minor": 0,
  "metadata": {
    "colab": {
      "provenance": []
    },
    "kernelspec": {
      "name": "python3",
      "display_name": "Python 3"
    },
    "language_info": {
      "name": "python"
    }
  },
  "cells": [
    {
      "cell_type": "code",
      "execution_count": null,
      "metadata": {
        "id": "qQhI45FrkdeD"
      },
      "outputs": [],
      "source": []
    },
    {
      "cell_type": "markdown",
      "source": [
        " 1. What is Python, and why is it popular?\n",
        "\n",
        " Python is a high-level, interpreted programming language known for its simple syntax and\n",
        " readability. It is popular because it supports multiple programming paradigms, has a large standard\n",
        " library, and is widely used in web development, data science, artificial intelligence, and more.\n",
        "\n",
        " 2. What is an interpreter in Python?\n",
        "\n",
        " An interpreter in Python reads and executes the code line by line, translating high-level code into\n",
        " machine code during runtime.\n",
        "\n",
        " 3. What are pre-defined keywords in Python?\n",
        "\n",
        " Pre-defined keywords are reserved words in Python that have special meanings and cannot be\n",
        " used for variable names (e.g., if, else, while, for, def, class).\n",
        " 4. Can keywords be used as variable names?\n",
        " No, keywords cannot be used as variable names because they are reserved for specific\n",
        " programming functions.\n",
        " 5. What is mutability in Python?\n",
        " Mutability refers to the ability of an object to be changed after it is created. Mutable objects can be\n",
        " modified, while immutable objects cannot.\n",
        " 6. Why are lists mutable, but tuples are immutable?\n",
        " Lists are mutable because their elements can be changed, added, or removed. Tuples are\n",
        " immutable, meaning once defined, their content cannot be altered.\n",
        " 7. What is the difference between '==' and 'is' operators in Python?\n",
        " '==' compares the values of two objects, while 'is' checks if two references point to the same object\n",
        " in memory.\n",
        " 8. What are logical operators in Python?\n",
        " Logical operators in Python are used to combine conditional statements: and, or, not.\n",
        " 9. What is type casting in Python?\n",
        "Type casting is the process of converting one data type into another, such as converting an integer\n",
        " to a float using float().\n",
        " 10. What is the difference between implicit and explicit type casting?\n",
        " Implicit casting is done automatically by Python, while explicit casting is done manually using\n",
        " functions like int(), float(), str().\n",
        " 11. What is the purpose of conditional statements in Python?\n",
        " Conditional statements are used to perform different actions based on different conditions using if,\n",
        " elif, and else.\n",
        " 12. How does the elif statement work?\n",
        " The elif (else if) statement checks another condition if the previous if condition was false. It allows\n",
        " multiple conditions to be checked in sequence.\n",
        " 13. What is the difference between for and while loops?\n",
        " A 'for' loop is used when the number of iterations is known, while a 'while' loop is used when the\n",
        " number of iterations depends on a condition.\n",
        " 14. Describe a scenario where a while loop is more suitable than a for loop.\n",
        " A while loop is more suitable when the loop needs to run until a certain condition is met, like reading\n",
        " input from a user until they type 'exit'\n"
      ],
      "metadata": {
        "id": "cIcotbfIkm7-"
      }
    },
    {
      "cell_type": "code",
      "source": [
        "print(\"hello World\")\n"
      ],
      "metadata": {
        "colab": {
          "base_uri": "https://localhost:8080/"
        },
        "id": "e4fbUSiRlP7t",
        "outputId": "ef3abddf-46dc-4e58-9c66-db0a00d0c75a"
      },
      "execution_count": null,
      "outputs": [
        {
          "output_type": "stream",
          "name": "stdout",
          "text": [
            "hello World\n"
          ]
        }
      ]
    },
    {
      "cell_type": "code",
      "source": [
        "name=\"Saad\"\n",
        "age=20\n",
        "print(name,age)"
      ],
      "metadata": {
        "colab": {
          "base_uri": "https://localhost:8080/"
        },
        "id": "2-cun9eHnG9O",
        "outputId": "93fb8415-573a-4180-e6ad-8da8fa0609d4"
      },
      "execution_count": null,
      "outputs": [
        {
          "output_type": "stream",
          "name": "stdout",
          "text": [
            "Saad 20\n"
          ]
        }
      ]
    },
    {
      "cell_type": "code",
      "source": [
        "list: help('keywords')\n"
      ],
      "metadata": {
        "colab": {
          "base_uri": "https://localhost:8080/"
        },
        "id": "AzqoZJDznkOw",
        "outputId": "dc4d55a7-5502-43f9-ad13-5d032d162d60"
      },
      "execution_count": null,
      "outputs": [
        {
          "output_type": "stream",
          "name": "stdout",
          "text": [
            "\n",
            "Here is a list of the Python keywords.  Enter any keyword to get more help.\n",
            "\n",
            "False               class               from                or\n",
            "None                continue            global              pass\n",
            "True                def                 if                  raise\n",
            "and                 del                 import              return\n",
            "as                  elif                in                  try\n",
            "assert              else                is                  while\n",
            "async               except              lambda              with\n",
            "await               finally             nonlocal            yield\n",
            "break               for                 not                 \n",
            "\n"
          ]
        }
      ]
    },
    {
      "cell_type": "code",
      "source": [
        "wd={\"false\",\"class\",\"from\",\"or\",\"try\",\"if\",\"and \", \" del\" , \"import \"  ,\" return\"}\n",
        "word=\"false\"\n",
        "if word in wd:\n",
        "  print(\"Python keyword\")\n",
        "\n",
        "else:print(\"not a python keyword\")"
      ],
      "metadata": {
        "colab": {
          "base_uri": "https://localhost:8080/"
        },
        "id": "W3zT9x9zoigC",
        "outputId": "236a872f-a88c-463c-900f-4c45511476af"
      },
      "execution_count": null,
      "outputs": [
        {
          "output_type": "stream",
          "name": "stdout",
          "text": [
            "Python keyword\n"
          ]
        }
      ]
    },
    {
      "cell_type": "code",
      "source": [
        "l=[10,20,30]\n",
        "print(l)\n",
        "l[1]=99\n",
        "print(l)\n",
        "tup=[10,20,30]\n",
        "print(tup)\n",
        "tup[2]=20\n",
        "print(\"tup not change\")"
      ],
      "metadata": {
        "id": "z8h3Pbl6rDxd",
        "colab": {
          "base_uri": "https://localhost:8080/"
        },
        "outputId": "c453f2e1-e30a-4ef6-b566-588458d2ae53"
      },
      "execution_count": 2,
      "outputs": [
        {
          "output_type": "stream",
          "name": "stdout",
          "text": [
            "[10, 20, 30]\n",
            "[10, 99, 30]\n",
            "[10, 20, 30]\n",
            "tup not change\n"
          ]
        }
      ]
    },
    {
      "cell_type": "code",
      "source": [],
      "metadata": {
        "id": "SdJ3FKExru6J"
      },
      "execution_count": null,
      "outputs": []
    },
    {
      "cell_type": "code",
      "source": [
        "a=int(input(\"Enter a:\"))\n",
        "b=int(input(\"Enter b:\"))\n",
        "c=a+b\n",
        "print(c)\n",
        "c=a-b\n",
        "print(c)\n",
        "c=a*b\n",
        "print(c)"
      ],
      "metadata": {
        "colab": {
          "base_uri": "https://localhost:8080/"
        },
        "id": "rTXmbQL9rwiF",
        "outputId": "548e5f0a-11f1-4570-fd27-a54db1a4da25"
      },
      "execution_count": null,
      "outputs": [
        {
          "output_type": "stream",
          "name": "stdout",
          "text": [
            "Enter a:5\n",
            "Enter b:3\n",
            "8\n",
            "2\n",
            "15\n"
          ]
        }
      ]
    },
    {
      "cell_type": "code",
      "source": [
        "a=int(input(\"Enter a:\"))\n",
        "b=int(input(\"Enter b:\"))\n",
        "if a==1&b==1:print(\"Both are equal\")\n",
        "else:print(\"not equal\")"
      ],
      "metadata": {
        "colab": {
          "base_uri": "https://localhost:8080/"
        },
        "id": "qvpagoalsLdV",
        "outputId": "f14ee894-97fc-4a58-caed-8b3873da7a1b"
      },
      "execution_count": null,
      "outputs": [
        {
          "output_type": "stream",
          "name": "stdout",
          "text": [
            "Enter a:1\n",
            "Enter b:6\n",
            "not equal\n"
          ]
        }
      ]
    },
    {
      "cell_type": "code",
      "source": [
        "s=input(\"Enter a number:\")\n",
        "i=int(s)\n",
        "print(type(i))\n",
        "f=float(s)\n",
        "print(type(f))\n",
        "b=bool(s)\n",
        "print(type(b))"
      ],
      "metadata": {
        "colab": {
          "base_uri": "https://localhost:8080/"
        },
        "id": "FgCq4EtQsLca",
        "outputId": "42832c70-bbd9-4eff-8c8c-1ec73b6614ba"
      },
      "execution_count": null,
      "outputs": [
        {
          "output_type": "stream",
          "name": "stdout",
          "text": [
            "Enter a number:85\n",
            "<class 'int'>\n",
            "<class 'float'>\n",
            "<class 'bool'>\n"
          ]
        }
      ]
    },
    {
      "cell_type": "code",
      "source": [
        "e=[\"10\",\"3.14\",\"true\"]\n",
        "i=int(e[0])\n",
        "f=float(e[1])\n",
        "b=bool(e[2])\n",
        "print(i,f,b)"
      ],
      "metadata": {
        "colab": {
          "base_uri": "https://localhost:8080/"
        },
        "id": "fp4Q7Rjctfx-",
        "outputId": "a66e5efb-abce-461d-d9db-664d07a37540"
      },
      "execution_count": null,
      "outputs": [
        {
          "output_type": "stream",
          "name": "stdout",
          "text": [
            "10 3.14 True\n"
          ]
        }
      ]
    },
    {
      "cell_type": "code",
      "source": [
        "a=-8\n",
        "if a>0:print(\"Positive\")\n",
        "elif a<0 : print(\"Negative\")\n",
        "else:print(\"equal\")"
      ],
      "metadata": {
        "colab": {
          "base_uri": "https://localhost:8080/"
        },
        "id": "m6ntZ5hfvVCs",
        "outputId": "b949bed8-e895-497b-e351-d49066e58087"
      },
      "execution_count": null,
      "outputs": [
        {
          "output_type": "stream",
          "name": "stdout",
          "text": [
            "Negative\n"
          ]
        }
      ]
    },
    {
      "cell_type": "code",
      "source": [
        "for i in range(1,11):\n",
        "  print(i)"
      ],
      "metadata": {
        "colab": {
          "base_uri": "https://localhost:8080/"
        },
        "id": "JWDyiW_Av2ea",
        "outputId": "8834acab-ad52-4e1e-e878-e177c2e08cb8"
      },
      "execution_count": null,
      "outputs": [
        {
          "output_type": "stream",
          "name": "stdout",
          "text": [
            "1\n",
            "2\n",
            "3\n",
            "4\n",
            "5\n",
            "6\n",
            "7\n",
            "8\n",
            "9\n",
            "10\n"
          ]
        }
      ]
    },
    {
      "cell_type": "code",
      "source": [
        "s=0\n",
        "for i in range(1,51):\n",
        "  if i%2==0:\n",
        "    s=s+i\n",
        "    print(s)\n",
        "\n",
        "print(\"one by one \")\n",
        "\n",
        "\n",
        "print(s)\n",
        "print(\"last total of all \")\n",
        "\n"
      ],
      "metadata": {
        "colab": {
          "base_uri": "https://localhost:8080/"
        },
        "id": "wRBDmQ7owD8Q",
        "outputId": "8617752b-cf9d-45ed-9e55-b88b1cb11138"
      },
      "execution_count": null,
      "outputs": [
        {
          "output_type": "stream",
          "name": "stdout",
          "text": [
            "2\n",
            "6\n",
            "12\n",
            "20\n",
            "30\n",
            "42\n",
            "56\n",
            "72\n",
            "90\n",
            "110\n",
            "132\n",
            "156\n",
            "182\n",
            "210\n",
            "240\n",
            "272\n",
            "306\n",
            "342\n",
            "380\n",
            "420\n",
            "462\n",
            "506\n",
            "552\n",
            "600\n",
            "650\n",
            "one by one \n",
            "650\n",
            "last total of all \n"
          ]
        }
      ]
    },
    {
      "cell_type": "code",
      "source": [
        "s=\"hello\"\n",
        "rev=\"\"\n",
        "i=len(s)-1\n",
        "while i>=0:\n",
        "  rev += s[i]\n",
        "  i-=1\n",
        "\n",
        "print(\"Reversed String:\",rev)\n"
      ],
      "metadata": {
        "colab": {
          "base_uri": "https://localhost:8080/"
        },
        "id": "bOSl9NA_xYwJ",
        "outputId": "b555e8da-623f-4827-b126-d40eea768d37"
      },
      "execution_count": 3,
      "outputs": [
        {
          "output_type": "stream",
          "name": "stdout",
          "text": [
            "Reversed String: olleh\n"
          ]
        }
      ]
    },
    {
      "cell_type": "code",
      "source": [
        "n=5\n",
        "f=1\n",
        "t=n\n",
        "\n",
        "while t>1:\n",
        "  f=f*t\n",
        "  t=t-1\n",
        "\n",
        "print(f)"
      ],
      "metadata": {
        "colab": {
          "base_uri": "https://localhost:8080/"
        },
        "id": "j5_VRi-cyht9",
        "outputId": "db40f9c1-5b91-4ccf-9e0f-01b929db2c25"
      },
      "execution_count": null,
      "outputs": [
        {
          "output_type": "stream",
          "name": "stdout",
          "text": [
            "120\n"
          ]
        }
      ]
    }
  ]
}