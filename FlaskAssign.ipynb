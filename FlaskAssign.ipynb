{
  "nbformat": 4,
  "nbformat_minor": 0,
  "metadata": {
    "colab": {
      "provenance": []
    },
    "kernelspec": {
      "name": "python3",
      "display_name": "Python 3"
    },
    "language_info": {
      "name": "python"
    }
  },
  "cells": [
    {
      "cell_type": "markdown",
      "source": [
        "# **Theory Questions**"
      ],
      "metadata": {
        "id": "MqnVPgagSJH8"
      }
    },
    {
      "cell_type": "markdown",
      "source": [
        "# Q1. What is a RESTful API?\n",
        "A RESTful API (Representational State Transfer) is an architectural style for designing web services.  \n",
        "It uses HTTP methods like GET, POST, PUT, DELETE to perform operations on resources, where resources are identified by URLs.  \n",
        "It is stateless, scalable, and easy to use."
      ],
      "metadata": {
        "id": "t0EpRpVhSJHX"
      }
    },
    {
      "cell_type": "markdown",
      "source": [
        "# Q2. Explain the concept of API specification\n",
        "An API specification defines how an API should behave.  \n",
        "It includes details like:\n",
        "- Endpoints (URLs)\n",
        "- Methods (GET, POST, etc.)\n",
        "- Request/Response format (JSON, XML)\n",
        "- Status codes  \n",
        "Example: **OpenAPI/Swagger** is a popular specification."
      ],
      "metadata": {
        "id": "s_ymzyoPT3h_"
      }
    },
    {
      "cell_type": "markdown",
      "source": [
        "# Q3. What is Flask, and why is it popular for building APIs?\n",
        "Flask is a lightweight Python web framework.  \n",
        "It is popular because:\n",
        "- Easy to learn\n",
        "- Minimal setup\n",
        "- Built-in development server\n",
        "- Extensions available (Flask-SQLAlchemy, Flask-RESTful)\n",
        "- Flexible for APIs and web apps\n",
        "\n"
      ],
      "metadata": {
        "id": "0H3T0bvnT3fH"
      }
    },
    {
      "cell_type": "markdown",
      "source": [
        "\n",
        "\n",
        "# Q4. What is routing in Flask?\n",
        "Routing means mapping a URL path to a function.  \n",
        "In Flask, routes are defined using the `@app.route()` decorator.\n",
        "\n"
      ],
      "metadata": {
        "id": "-cROh4XpT3cV"
      }
    },
    {
      "cell_type": "markdown",
      "source": [
        "\n",
        "\n",
        "# Q5. How do you create a simple Flask application?\n",
        "Steps:\n",
        "1. Import Flask\n",
        "2. Create app = Flask(__name__)\n",
        "3. Define routes with @app.route\n",
        "4. Run app.run()\n",
        "\n"
      ],
      "metadata": {
        "id": "QdeFYZswT3ZJ"
      }
    },
    {
      "cell_type": "markdown",
      "source": [
        "\n",
        "\n",
        "# Q6. What are HTTP methods used in RESTful APIs?\n",
        "- **GET** → Fetch data\n",
        "- **POST** → Create data\n",
        "- **PUT** → Update data\n",
        "- **DELETE** → Delete data\n",
        "- **PATCH** → Partial update\n",
        "\n",
        "\n"
      ],
      "metadata": {
        "id": "sXj-Mz4AT3WU"
      }
    },
    {
      "cell_type": "markdown",
      "source": [
        "\n",
        "# Q7. What is the purpose of the @app.route() decorator in Flask?\n",
        "It binds a URL to a specific Python function.  \n",
        "Example:  \n",
        "```python\n",
        "@app.route('/hello')\n",
        "def hello():\n",
        "    return \"Hello World\""
      ],
      "metadata": {
        "id": "THlv_j4_T3TR"
      }
    },
    {
      "cell_type": "markdown",
      "source": [
        "#Q8. Difference between GET and POST\n",
        "\n",
        "GET: Data sent in URL, used for retrieving.\n",
        "\n",
        "POST: Data sent in request body, used for submitting."
      ],
      "metadata": {
        "id": "-F6Ra8mKT3QO"
      }
    },
    {
      "cell_type": "markdown",
      "source": [
        "#Q9. How do you handle errors in Flask APIs?\n",
        "\n",
        "Use @app.errorhandler(code) or return JSON with error messages.\n",
        "\n",
        "Example: @app.errorhandler(404)\n"
      ],
      "metadata": {
        "id": "XPRhYriDT3NJ"
      }
    },
    {
      "cell_type": "markdown",
      "source": [
        "\n",
        "#Q10. How do you connect Flask to a SQL database?\n",
        "\n",
        "Install Flask-SQLAlchemy\n",
        "\n",
        "Configure DB URI in app.config\n",
        "\n",
        "Create models and use ORM for queries\n",
        "\n"
      ],
      "metadata": {
        "id": "ovro3mG4T3Kg"
      }
    },
    {
      "cell_type": "markdown",
      "source": [
        "#Q11. What is the role of Flask-SQLAlchemy?\n",
        "\n",
        "It provides an ORM (Object Relational Mapper) for easy database handling in Flask apps.\n"
      ],
      "metadata": {
        "id": "zYJMEJUKT3Jx"
      }
    },
    {
      "cell_type": "markdown",
      "source": [
        "#Q12. What are Flask blueprints, and how are they useful?\n",
        "\n",
        "Blueprints allow structuring a Flask app into smaller components.\n",
        "Useful for large apps (modularity & reusability)."
      ],
      "metadata": {
        "id": "MtVRsVJXT3HJ"
      }
    },
    {
      "cell_type": "markdown",
      "source": [
        "#Q13. Purpose of Flask's request object\n",
        "\n",
        "request stores data from the client (form data, JSON, headers, query params).\n"
      ],
      "metadata": {
        "id": "AbZy3HpKT3D5"
      }
    },
    {
      "cell_type": "markdown",
      "source": [
        "#Q14. How do you create a RESTful API endpoint using Flask?\n",
        "\n",
        "Define a route + method, and return JSON response using jsonify().\n",
        "\n"
      ],
      "metadata": {
        "id": "86_ywOW9T3A9"
      }
    },
    {
      "cell_type": "markdown",
      "source": [
        "#Q15. Purpose of Flask's jsonify() function\n",
        "\n",
        "Converts Python dict/list into proper JSON response with headers."
      ],
      "metadata": {
        "id": "MowEAUeQT294"
      }
    },
    {
      "cell_type": "markdown",
      "source": [
        "#Q16. Explain Flask’s url_for() function\n",
        "\n",
        "Generates dynamic URLs for routes using function names instead of hardcoding URLs."
      ],
      "metadata": {
        "id": "auX_bWfJT26N"
      }
    },
    {
      "cell_type": "markdown",
      "source": [
        "#Q17. How does Flask handle static files?\n",
        "\n",
        "By default, Flask serves static files from the static/ folder.\n",
        "Accessible via /static/filename."
      ],
      "metadata": {
        "id": "iCsfKBtoT23N"
      }
    },
    {
      "cell_type": "markdown",
      "source": [
        "#Q18. What is an API specification in Flask?\n",
        "\n",
        "Defines endpoints, request/response format, and helps in documenting & testing APIs."
      ],
      "metadata": {
        "id": "rlhtMTm9T2wl"
      }
    },
    {
      "cell_type": "markdown",
      "source": [
        "#Q19. What are HTTP status codes?\n",
        "\n",
        "They indicate the result of a request.\n",
        "Examples:\n",
        "\n",
        "200 → OK\n",
        "\n",
        "201 → Created\n",
        "\n",
        "404 → Not Found\n",
        "\n",
        "500 → Server Error"
      ],
      "metadata": {
        "id": "ky37MTnzT2CS"
      }
    },
    {
      "cell_type": "markdown",
      "source": [
        "#Q20. How do you handle POST requests in Flask?\n",
        "\n",
        "Use request.form or request.json inside a POST route."
      ],
      "metadata": {
        "id": "WxX4GUp_VWT3"
      }
    },
    {
      "cell_type": "markdown",
      "source": [
        "#Q21. How would you secure a Flask API?\n",
        "\n",
        "Use authentication (JWT, OAuth)\n",
        "\n",
        "HTTPS (SSL)\n",
        "\n",
        "Input validation\n",
        "\n",
        "Rate limiting"
      ],
      "metadata": {
        "id": "ZKlgMx92VZQp"
      }
    },
    {
      "cell_type": "markdown",
      "source": [
        "#Q22. Significance of Flask-RESTful extension\n",
        "\n",
        "Simplifies building REST APIs with Flask by providing Resource classes, request parsing, etc.\n",
        "\n"
      ],
      "metadata": {
        "id": "YsFPdVPgVcKP"
      }
    },
    {
      "cell_type": "markdown",
      "source": [
        "#Q23. Role of Flask’s session object\n",
        "\n",
        "Stores temporary data (user login, preferences) across requests using cookies."
      ],
      "metadata": {
        "id": "Y9PKKz9sVhK_"
      }
    },
    {
      "cell_type": "markdown",
      "source": [
        "# ***`Practical Question`***\n",
        "\n"
      ],
      "metadata": {
        "id": "rtkW5qcuVkb1"
      }
    },
    {
      "cell_type": "code",
      "execution_count": null,
      "metadata": {
        "colab": {
          "base_uri": "https://localhost:8080/"
        },
        "id": "3zTrHyyYRgQv",
        "outputId": "25ab61ee-373a-49d3-973d-c1308c7e7fc7"
      },
      "outputs": [
        {
          "output_type": "stream",
          "name": "stdout",
          "text": [
            " * Serving Flask app '__main__'\n",
            " * Debug mode: on\n"
          ]
        },
        {
          "output_type": "stream",
          "name": "stderr",
          "text": [
            "INFO:werkzeug:\u001b[31m\u001b[1mWARNING: This is a development server. Do not use it in a production deployment. Use a production WSGI server instead.\u001b[0m\n",
            " * Running on http://127.0.0.1:5000\n",
            "INFO:werkzeug:\u001b[33mPress CTRL+C to quit\u001b[0m\n",
            "INFO:werkzeug: * Restarting with watchdog (inotify)\n"
          ]
        }
      ],
      "source": [
        "# Q1. Create a basic Flask application\n",
        "from flask import Flask\n",
        "app = Flask(__name__)\n",
        "\n",
        "@app.route('/')\n",
        "def home():\n",
        "    return \"Hello, Flask!\"\n",
        "\n",
        "if __name__ == \"__main__\":\n",
        "    app.run(debug=True)"
      ]
    },
    {
      "cell_type": "code",
      "source": [
        "#Q2. Serve static files (images, CSS)\n",
        "# Place your files in a folder named 'static'\n",
        "# Access: http://localhost:5000/static/filename.png"
      ],
      "metadata": {
        "id": "Iq_yeKUaV3YR"
      },
      "execution_count": 2,
      "outputs": []
    },
    {
      "cell_type": "code",
      "source": [
        "# Q3. Define different routes with different HTTP methods\n",
        "from flask import request\n",
        "\n",
        "@app.route('/data', methods=['GET', 'POST'])\n",
        "def data():\n",
        "    if request.method == 'GET':\n",
        "        return \"This is GET request\"\n",
        "    elif request.method == 'POST':\n",
        "        return \"This is POST request\""
      ],
      "metadata": {
        "id": "6fyXH8GCV7nG"
      },
      "execution_count": 3,
      "outputs": []
    },
    {
      "cell_type": "code",
      "source": [
        "# Q4. Render HTML templates\n",
        "from flask import render_template\n",
        "\n",
        "@app.route('/hello')\n",
        "def hello():\n",
        "    return render_template('index.html')  # create index.html in templates/"
      ],
      "metadata": {
        "id": "aHmAbZjcWAAW"
      },
      "execution_count": 4,
      "outputs": []
    },
    {
      "cell_type": "code",
      "source": [
        "# Q5. Generate URLs for routes using url_for\n",
        "from flask import url_for\n",
        "\n",
        "@app.route('/profile')\n",
        "def profile():\n",
        "    return f\"Profile URL: {url_for('profile')}\""
      ],
      "metadata": {
        "id": "7rXaUrIhWCrL"
      },
      "execution_count": 5,
      "outputs": []
    },
    {
      "cell_type": "code",
      "source": [
        "# Q6. Handle forms in Flask\n",
        "@app.route('/form', methods=['GET', 'POST'])\n",
        "def form():\n",
        "    if request.method == 'POST':\n",
        "        name = request.form['name']\n",
        "        return f\"Hello {name}\"\n",
        "    return '''\n",
        "        <form method=\"POST\">\n",
        "            <input type=\"text\" name=\"name\"/>\n",
        "            <input type=\"submit\"/>\n",
        "        </form>\n",
        "    '''"
      ],
      "metadata": {
        "id": "Nt1DUEdgWEep"
      },
      "execution_count": 6,
      "outputs": []
    },
    {
      "cell_type": "code",
      "source": [
        "# Q7. Validate form data\n",
        "@app.route('/validate', methods=['POST'])\n",
        "def validate():\n",
        "    name = request.form.get('name')\n",
        "    if not name:\n",
        "        return \"Name is required!\", 400\n",
        "    return f\"Welcome {name}\""
      ],
      "metadata": {
        "id": "2MwKzj7UWI_e"
      },
      "execution_count": 7,
      "outputs": []
    },
    {
      "cell_type": "code",
      "source": [
        "# Q8. Manage sessions\n",
        "from flask import session\n",
        "\n",
        "app.secret_key = \"secret\"\n",
        "\n",
        "@app.route('/set_session')\n",
        "def set_session():\n",
        "    session['user'] = 'Saad'\n",
        "    return \"Session set!\"\n",
        "\n",
        "@app.route('/get_session')\n",
        "def get_session():\n",
        "    return session.get('user', 'Not logged in')"
      ],
      "metadata": {
        "id": "pAD2QCOGWJ-U"
      },
      "execution_count": 8,
      "outputs": []
    },
    {
      "cell_type": "code",
      "source": [
        "# Q9. Redirect to a different route\n",
        "from flask import redirect\n",
        "\n",
        "@app.route('/goto')\n",
        "def goto():\n",
        "    return redirect(url_for('home'))"
      ],
      "metadata": {
        "id": "UWhbOxPdWSIS"
      },
      "execution_count": 9,
      "outputs": []
    },
    {
      "cell_type": "code",
      "source": [
        "# Q10. Handle errors (404)\n",
        "@app.errorhandler(404)\n",
        "def not_found(e):\n",
        "    return \"Page not found!\", 404"
      ],
      "metadata": {
        "id": "1ZP6voN1WUbE"
      },
      "execution_count": 10,
      "outputs": []
    },
    {
      "cell_type": "code",
      "source": [
        "# Q11. Structure app using Blueprints\n",
        "from flask import Blueprint\n",
        "\n",
        "bp = Blueprint('api', __name__)\n",
        "\n",
        "@bp.route('/bp')\n",
        "def bp_home():\n",
        "    return \"Hello from Blueprint\"\n",
        "\n",
        "app.register_blueprint(bp)\n",
        "\n"
      ],
      "metadata": {
        "id": "l7XQHD8JWWYX"
      },
      "execution_count": 11,
      "outputs": []
    },
    {
      "cell_type": "code",
      "source": [
        "# Q12. Define a custom Jinja filter\n",
        "@app.template_filter('reverse')\n",
        "def reverse_filter(s):\n",
        "    return s[::-1]\n"
      ],
      "metadata": {
        "id": "k1TDOtHUWbbc"
      },
      "execution_count": 12,
      "outputs": []
    },
    {
      "cell_type": "code",
      "source": [
        "# Q13. Redirect with query parameters\n",
        "@app.route('/search')\n",
        "def search():\n",
        "    return redirect(url_for('home', q=\"Flask\"))\n"
      ],
      "metadata": {
        "id": "-mY8AJCcWeKy"
      },
      "execution_count": 13,
      "outputs": []
    },
    {
      "cell_type": "code",
      "source": [
        "# Q14. Return JSON responses\n",
        "from flask import jsonify\n",
        "\n",
        "@app.route('/json')\n",
        "def json_example():\n",
        "    return jsonify({\"name\": \"Saad\", \"lang\": \"Python\"})\n"
      ],
      "metadata": {
        "id": "7vJzjuFIWfGh"
      },
      "execution_count": 14,
      "outputs": []
    },
    {
      "cell_type": "code",
      "source": [
        "# Q15. Capture URL parameters\n",
        "@app.route('/user/<username>')\n",
        "def user_profile(username):\n",
        "    return f\"Hello {username}\"\n"
      ],
      "metadata": {
        "id": "S4ZqIVh0WhKb"
      },
      "execution_count": 15,
      "outputs": []
    }
  ]
}