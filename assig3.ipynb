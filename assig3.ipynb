{
  "nbformat": 4,
  "nbformat_minor": 0,
  "metadata": {
    "colab": {
      "provenance": []
    },
    "kernelspec": {
      "name": "python3",
      "display_name": "Python 3"
    },
    "language_info": {
      "name": "python"
    }
  },
  "cells": [
    {
      "cell_type": "markdown",
      "source": [
        "                          **PYTHON OOPS QUESTIONS**\n"
      ],
      "metadata": {
        "id": "thWoISin6j6A"
      }
    },
    {
      "cell_type": "markdown",
      "source": [
        "1. What is Object-Oriented Programming (OOP)?\n",
        "A programming style using objects (data + functions).\n",
        "\n",
        "2. What is a class in OOP?\n",
        "A blueprint to create objects.\n",
        "\n",
        "3. What is an object in OOP?\n",
        "An instance of a class.\n",
        "\n",
        "4. What is the difference between abstraction and encapsulation?\n",
        "Abstraction hides details. Encapsulation protects data using classes.\n",
        "\n",
        "5. What are dunder methods in Python?\n",
        "Special methods like __init__, __str__, etc.\n",
        "\n",
        "6. Explain the concept of inheritance in OOP.\n",
        "One class uses features of another.\n",
        "\n",
        "7. What is polymorphism in OOP?\n",
        "One method behaves differently in different classes.\n",
        "\n",
        "8. How is encapsulation achieved in Python?\n",
        "Using _ or __ to hide data in classes.\n",
        "\n",
        "9. What is a constructor in Python?\n",
        "__init__() method to initialize object data.\n",
        "\n",
        "10. What are class and static methods in Python?\n",
        "Class method: Uses @classmethod, takes cls.\n",
        "Static method: Uses @staticmethod, takes no self or cls.\n",
        "\n",
        "11. What is method overloading in Python?\n",
        "Same method name, different arguments (via default args).\n",
        "\n",
        "12. What is method overriding in OOP?\n",
        "Child class changes/overrides parent’s method.\n",
        "\n",
        "13. What is a property decorator in Python?\n",
        "@property makes a method act like a variable.\n",
        "\n",
        "14. Why is polymorphism important in OOP?\n",
        "For flexibility and code reuse.\n",
        "\n",
        "15. What is an abstract class in Python?\n",
        "A class with unimplemented methods using abc module.\n",
        "\n",
        "16. What are the advantages of OOP?\n",
        "Reusability, data security, modularity, easy maintenance.\n",
        "\n",
        "17. What is the difference between a class variable and an instance variable?\n",
        "Class variable: Shared by all objects.\n",
        "Instance variable: Unique to each object.\n",
        "\n",
        "18. What is multiple inheritance in Python?\n",
        "Class inherits from more than one parent class.\n",
        "\n",
        "19. Purpose of __str__ and __repr__ methods\n",
        "__str__: User-friendly string.\n",
        "__repr__: Debugging/developer string.\n",
        "\n",
        "20. Significance of super() in Python\n",
        "Calls parent class methods.\n",
        "\n",
        "21. What is the significance of the __del__ method in Python?\n",
        "__del__() is the destructor method, called when an object is deleted.\n",
        "\n",
        "22. What is the difference between @staticmethod and @classmethod in Python?\n",
        "@staticmethod: No access to class or object.\n",
        "@classmethod: Access to class via 'cls'.\n",
        "\n",
        "23. How does polymorphism work in Python with inheritance?\n",
        "Via method overriding – same method behaves differently in child class.\n",
        "\n",
        "24. What is method chaining in Python OOP?\n",
        "Calling multiple methods on the same object in a single line using 'return self'.\n",
        "\n",
        "25. What is the purpose of the __call__ method in Python?\n",
        "It makes an object callable like a function.\n"
      ],
      "metadata": {
        "id": "8U04bzxu6vJV"
      }
    },
    {
      "cell_type": "code",
      "source": [
        "\n",
        "class Animal:\n",
        "    def speak(self):\n",
        "        print(\"Generic animal sound\")\n",
        "\n",
        "class Dog(Animal):\n",
        "    def speak(self):\n",
        "        print(\"Bark!\")\n",
        "\n",
        "d = Dog()\n",
        "d.speak()\n"
      ],
      "metadata": {
        "colab": {
          "base_uri": "https://localhost:8080/"
        },
        "id": "DQ8O6Ly77yUV",
        "outputId": "9b82d636-20be-4e3d-8696-b9f720f8f67f"
      },
      "execution_count": 1,
      "outputs": [
        {
          "output_type": "stream",
          "name": "stdout",
          "text": [
            "Bark!\n"
          ]
        }
      ]
    },
    {
      "cell_type": "code",
      "source": [
        "from abc import ABC, abstractmethod\n",
        "\n",
        "class Shape(ABC):\n",
        "    @abstractmethod\n",
        "    def area(self): pass\n",
        "\n",
        "class Circle(Shape):\n",
        "    def area(self):\n",
        "        return 3.14 * 5 * 5\n",
        "\n",
        "class Rectangle(Shape):\n",
        "    def area(self):\n",
        "        return 5 * 4\n",
        "\n",
        "c = Circle()\n",
        "r = Rectangle()\n",
        "print(c.area(), r.area())\n"
      ],
      "metadata": {
        "colab": {
          "base_uri": "https://localhost:8080/"
        },
        "id": "46Q83W-F8IP0",
        "outputId": "9b1f1258-0dcb-41b0-dbb7-4ec0aa1f562c"
      },
      "execution_count": 2,
      "outputs": [
        {
          "output_type": "stream",
          "name": "stdout",
          "text": [
            "78.5 20\n"
          ]
        }
      ]
    },
    {
      "cell_type": "code",
      "source": [
        "class Vehicle:\n",
        "    def __init__(self, type):\n",
        "        self.type = type\n",
        "\n",
        "class Car(Vehicle):\n",
        "    def __init__(self, type, brand):\n",
        "        super().__init__(type)\n",
        "        self.brand = brand\n",
        "\n",
        "class ElectricCar(Car):\n",
        "    def __init__(self, type, brand, battery):\n",
        "        super().__init__(type, brand)\n",
        "        self.battery = battery\n"
      ],
      "metadata": {
        "id": "SGcZ58AV8NBt"
      },
      "execution_count": 4,
      "outputs": []
    },
    {
      "cell_type": "code",
      "source": [
        "class Bird:\n",
        "    def fly(self):\n",
        "        print(\"Some bird flies\")\n",
        "\n",
        "class Sparrow(Bird):\n",
        "    def fly(self):\n",
        "        print(\"Sparrow flies fast\")\n",
        "\n",
        "class Penguin(Bird):\n",
        "    def fly(self):\n",
        "        print(\"Penguins can't fly\")\n"
      ],
      "metadata": {
        "id": "zWRSMrNy8THY"
      },
      "execution_count": 5,
      "outputs": []
    },
    {
      "cell_type": "code",
      "source": [
        "class BankAccount:\n",
        "    def __init__(self):\n",
        "        self.__balance = 0\n",
        "\n",
        "    def deposit(self, amt): self.__balance += amt\n",
        "    def withdraw(self, amt): self.__balance -= amt\n",
        "    def check_balance(self): return self.__balance\n"
      ],
      "metadata": {
        "id": "RcMRVQEA8sM7"
      },
      "execution_count": 6,
      "outputs": []
    },
    {
      "cell_type": "code",
      "source": [
        "class Instrument:\n",
        "    def play(self): print(\"Playing instrument\")\n",
        "\n",
        "class Guitar(Instrument):\n",
        "    def play(self): print(\"Strumming guitar\")\n",
        "\n",
        "class Piano(Instrument):\n",
        "    def play(self): print(\"Playing piano\")\n"
      ],
      "metadata": {
        "id": "X-MoqlmE81zd"
      },
      "execution_count": 7,
      "outputs": []
    },
    {
      "cell_type": "code",
      "source": [
        "class MathOperations:\n",
        "    @classmethod\n",
        "    def add_numbers(cls, a, b):\n",
        "      return a + b\n",
        "\n",
        "    @staticmethod\n",
        "    def subtract_numbers(a, b):\n",
        "      return a - b\n"
      ],
      "metadata": {
        "id": "cktYW8Tr85Ne"
      },
      "execution_count": 8,
      "outputs": []
    },
    {
      "cell_type": "code",
      "source": [
        "class Person:\n",
        "    count = 0\n",
        "\n",
        "    def __init__(self):\n",
        "        Person.count += 1\n",
        "\n",
        "    @classmethod\n",
        "    def total_persons(cls):\n",
        "        return cls.count\n"
      ],
      "metadata": {
        "id": "DW66Ls_q8_wF"
      },
      "execution_count": 9,
      "outputs": []
    },
    {
      "cell_type": "code",
      "source": [
        "class Fraction:\n",
        "    def __init__(self, num, den):\n",
        "        self.num = num\n",
        "        self.den = den\n",
        "\n",
        "    def __str__(self):\n",
        "        return f\"{self.num}/{self.den}\"\n"
      ],
      "metadata": {
        "id": "j0bOYlrU9ENk"
      },
      "execution_count": 10,
      "outputs": []
    },
    {
      "cell_type": "code",
      "source": [
        "class Vector:\n",
        "    def __init__(self, x, y):\n",
        "        self.x = x\n",
        "        self.y = y\n",
        "\n",
        "    def __add__(self, other):\n",
        "        return Vector(self.x + other.x, self.y + other.y)\n",
        "\n",
        "v1 = Vector(2, 3)\n",
        "v2 = Vector(4, 5)\n",
        "v3 = v1 + v2\n",
        "print(v3.x, v3.y)\n"
      ],
      "metadata": {
        "colab": {
          "base_uri": "https://localhost:8080/"
        },
        "id": "XCN4zZCp9I4N",
        "outputId": "90c6cf26-5956-4daf-a45b-6cafbee88356"
      },
      "execution_count": 11,
      "outputs": [
        {
          "output_type": "stream",
          "name": "stdout",
          "text": [
            "6 8\n"
          ]
        }
      ]
    },
    {
      "cell_type": "code",
      "source": [
        "class Person:\n",
        "    def __init__(self, name, age):\n",
        "        self.name = name\n",
        "        self.age = age\n",
        "\n",
        "    def greet(self):\n",
        "        print(f\"Hello, my name is {self.name} and I am {self.age} years old.\")\n"
      ],
      "metadata": {
        "id": "uBDs765H9R2v"
      },
      "execution_count": 12,
      "outputs": []
    },
    {
      "cell_type": "code",
      "source": [
        "class Student:\n",
        "    def __init__(self, name, grades):\n",
        "        self.name = name\n",
        "        self.grades = grades\n",
        "\n",
        "    def average_grade(self):\n",
        "        return sum(self.grades) / len(self.grades)\n"
      ],
      "metadata": {
        "id": "qirGnPvm9Xci"
      },
      "execution_count": 13,
      "outputs": []
    },
    {
      "cell_type": "code",
      "source": [
        "class Rectangle:\n",
        "    def set_dimensions(self, l, b):\n",
        "        self.length = l\n",
        "        self.breadth = b\n",
        "\n",
        "    def area(self):\n",
        "        return self.length * self.breadth\n"
      ],
      "metadata": {
        "id": "NJlcjfvb9bc8"
      },
      "execution_count": 14,
      "outputs": []
    },
    {
      "cell_type": "code",
      "source": [
        "class Employee:\n",
        "    def calculate_salary(self, hours, rate):\n",
        "        return hours * rate\n",
        "\n",
        "class Manager(Employee):\n",
        "    def calculate_salary(self, hours, rate, bonus):\n",
        "        return super().calculate_salary(hours, rate) + bonus\n"
      ],
      "metadata": {
        "id": "G5vJeZnd9eJN"
      },
      "execution_count": 15,
      "outputs": []
    },
    {
      "cell_type": "code",
      "source": [
        "class Product:\n",
        "    def __init__(self, name, price, qty):\n",
        "        self.name = name\n",
        "        self.price = price\n",
        "        self.qty = qty\n",
        "\n",
        "    def total_price(self):\n",
        "        return self.price * self.qty\n"
      ],
      "metadata": {
        "id": "1DQwnz9A9isf"
      },
      "execution_count": 16,
      "outputs": []
    },
    {
      "cell_type": "code",
      "source": [
        "from abc import ABC, abstractmethod\n",
        "\n",
        "class Animal(ABC):\n",
        "    @abstractmethod\n",
        "    def sound(self): pass\n",
        "\n",
        "class Cow(Animal):\n",
        "    def sound(self): print(\"Moo\")\n",
        "\n",
        "class Sheep(Animal):\n",
        "    def sound(self): print(\"Baa\")\n"
      ],
      "metadata": {
        "id": "xs9eo06r9lOb"
      },
      "execution_count": 17,
      "outputs": []
    },
    {
      "cell_type": "code",
      "source": [
        "class Book:\n",
        "    def __init__(self, title, author, year):\n",
        "        self.title = title\n",
        "        self.author = author\n",
        "        self.year = year\n",
        "\n",
        "    def get_book_info(self):\n",
        "        return f\"{self.title} by {self.author}, published in {self.year}\"\n"
      ],
      "metadata": {
        "id": "VJzmBYQa9yQ_"
      },
      "execution_count": 18,
      "outputs": []
    },
    {
      "cell_type": "code",
      "source": [
        "class House:\n",
        "    def __init__(self, address, price):\n",
        "        self.address = address\n",
        "        self.price = price\n",
        "\n",
        "class Mansion(House):\n",
        "    def __init__(self, address, price, rooms):\n",
        "        super().__init__(address, price)\n",
        "        self.number_of_rooms = rooms\n"
      ],
      "metadata": {
        "id": "bzX4a_Fb92Wk"
      },
      "execution_count": 19,
      "outputs": []
    }
  ]
}