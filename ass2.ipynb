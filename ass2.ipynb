{
  "nbformat": 4,
  "nbformat_minor": 0,
  "metadata": {
    "colab": {
      "provenance": []
    },
    "kernelspec": {
      "name": "python3",
      "display_name": "Python 3"
    },
    "language_info": {
      "name": "python"
    }
  },
  "cells": [
    {
      "cell_type": "markdown",
      "source": [
        " 1. What is Python, and why is it popular?\n",
        " -> Python is a high-level, easy-to-read language, popular due to simplicity and rich libraries.\n",
        "\n",
        " 2. What is an interpreter in Python?\n",
        " -> It executes Python code line by line.\n",
        "\n",
        " 3. What are pre-defined keywords in Python?\n",
        " -> Reserved words like if, else, while that cannot be used as variable names.\n",
        "\n",
        " 4. Can keywords be used as variable names?\n",
        " -> No, keywords are reserved.\n",
        "\n",
        " 5. What is mutability in Python?\n",
        " -> Ability of an object to be changed after creation.\n",
        "\n",
        " 6. Why are lists mutable but tuples are immutable?\n",
        " -> Lists can be modified; tuples are fixed after creation.\n",
        "\n",
        " 7. What is the difference between '==' and 'is'?->\n",
        " '==' checks values, 'is' checks memory location.\n",
        "\n",
        " 8. What are logical operators in Python?\n",
        " -> and, or, not - used for boolean logic.\n",
        "\n",
        " 9. What is type casting in Python?\n",
        " -> Converting one data type to another (e.g., int(\"5\")).\n",
        "\n",
        " 10. Difference: implicit vs explicit type casting?\n",
        " -> Implicit: automatic. Explicit: manual by programmer.\n",
        "\n",
        " 11. Purpose of conditional statements in Python?\n",
        " -> To control the flow based on conditions (if, else).\n",
        "\n",
        " 12. How does the elif statement work?\n",
        " -> It checks another condition if the previous one was False.\n",
        "\n",
        "13. Difference: for and while loop?\n",
        "-> for: known iterations; while: depends on condition.\n",
        "\n",
        " 14. Scenario where while is better than for?\n",
        " -> When looping until user input is correct or condition is met.\n"
      ],
      "metadata": {
        "id": "rgsuOYDvEL6S"
      }
    },
    {
      "cell_type": "markdown",
      "source": [],
      "metadata": {
        "id": "4D28uZWvFKBS"
      }
    },
    {
      "cell_type": "markdown",
      "source": [
        "**PRACTICAL**\n"
      ],
      "metadata": {
        "id": "w4UzLrTgFM7_"
      }
    },
    {
      "cell_type": "code",
      "source": [
        "print(\"Hello, World\")"
      ],
      "metadata": {
        "colab": {
          "base_uri": "https://localhost:8080/"
        },
        "id": "g4lwIGMmFSTC",
        "outputId": "915c1b41-b48c-4182-8119-78b6e30c1f15"
      },
      "execution_count": 1,
      "outputs": [
        {
          "output_type": "stream",
          "name": "stdout",
          "text": [
            "Hello, World\n"
          ]
        }
      ]
    },
    {
      "cell_type": "code",
      "source": [
        " name=\"saad\"\n",
        " age=20\n",
        " print(\"NAME:\",name)\n",
        " print(\"Age:\",age)"
      ],
      "metadata": {
        "colab": {
          "base_uri": "https://localhost:8080/"
        },
        "id": "X1l-TaBLFawI",
        "outputId": "cb73f87b-7a0b-4b36-a7d5-13275bd76f69"
      },
      "execution_count": 2,
      "outputs": [
        {
          "output_type": "stream",
          "name": "stdout",
          "text": [
            "NAME: saad\n",
            "Age: 20\n"
          ]
        }
      ]
    },
    {
      "cell_type": "code",
      "source": [
        "import keyword\n",
        "print(keyword.kwlist)"
      ],
      "metadata": {
        "colab": {
          "base_uri": "https://localhost:8080/"
        },
        "id": "8j3MbysVGEyi",
        "outputId": "41e0eeab-eb5f-43ef-827d-ce0da1dd8493"
      },
      "execution_count": 4,
      "outputs": [
        {
          "output_type": "stream",
          "name": "stdout",
          "text": [
            "['False', 'None', 'True', 'and', 'as', 'assert', 'async', 'await', 'break', 'class', 'continue', 'def', 'del', 'elif', 'else', 'except', 'finally', 'for', 'from', 'global', 'if', 'import', 'in', 'is', 'lambda', 'nonlocal', 'not', 'or', 'pass', 'raise', 'return', 'try', 'while', 'with', 'yield']\n"
          ]
        }
      ]
    },
    {
      "cell_type": "code",
      "source": [
        " word = \"for\"\n",
        " print(keyword.iskeyword(word))"
      ],
      "metadata": {
        "colab": {
          "base_uri": "https://localhost:8080/"
        },
        "id": "-6UNk_ezGKPa",
        "outputId": "363ee59a-c527-48bf-b301-f858c461fa29"
      },
      "execution_count": 5,
      "outputs": [
        {
          "output_type": "stream",
          "name": "stdout",
          "text": [
            "True\n"
          ]
        }
      ]
    },
    {
      "cell_type": "code",
      "source": [
        " lst = [1, 2, 3]\n",
        " tpl = (1, 2, 3)\n",
        " lst[0] = 10\n",
        " print(\"Modified List:\", lst)\n",
        " try:\n",
        "    tpl[0] = 10\n",
        " except TypeError:\n",
        "    print(\"Tuple can't be modified\")"
      ],
      "metadata": {
        "colab": {
          "base_uri": "https://localhost:8080/"
        },
        "id": "mA9m2HUVGOrS",
        "outputId": "884197a2-ed11-4b58-cd51-f68b4d83d39b"
      },
      "execution_count": 6,
      "outputs": [
        {
          "output_type": "stream",
          "name": "stdout",
          "text": [
            "Modified List: [10, 2, 3]\n",
            "Tuple can't be modified\n"
          ]
        }
      ]
    },
    {
      "cell_type": "code",
      "source": [
        " def test(a, b):\n",
        "    a += 1\n",
        "    b.append(4)\n",
        "    print(\"Inside:\", a, b)\n",
        " x = 5\n",
        " y = [1, 2, 3]\n",
        " test(x, y)\n",
        " print(\"Outside:\", x, y)"
      ],
      "metadata": {
        "colab": {
          "base_uri": "https://localhost:8080/"
        },
        "id": "cpfEthNXGSUb",
        "outputId": "293a811e-e695-4a5d-ab7a-57519e39f3f7"
      },
      "execution_count": 7,
      "outputs": [
        {
          "output_type": "stream",
          "name": "stdout",
          "text": [
            "Inside: 6 [1, 2, 3, 4]\n",
            "Outside: 5 [1, 2, 3, 4]\n"
          ]
        }
      ]
    },
    {
      "cell_type": "code",
      "source": [
        " a = int(input(\"Enter first number: \"))\n",
        " b = int(input(\"Enter second number: \"))\n",
        "print(\"Add:\", a + b)\n",
        " print(\"Sub:\", a - b)\n",
        " print(\"Mul:\", a * b)\n",
        " print(\"Div:\", a / b)"
      ],
      "metadata": {
        "colab": {
          "base_uri": "https://localhost:8080/"
        },
        "id": "o5h3y0ZmGWnV",
        "outputId": "a583717e-762f-459c-ed6e-6912718bec4e"
      },
      "execution_count": 8,
      "outputs": [
        {
          "output_type": "stream",
          "name": "stdout",
          "text": [
            "Enter first number: 5\n",
            "Enter second number: 6\n",
            "Add: 11\n",
            "Sub: -1\n",
            "Mul: 30\n",
            "Div: 0.8333333333333334\n"
          ]
        }
      ]
    },
    {
      "cell_type": "code",
      "source": [
        " x = True\n",
        " y = False\n",
        " print(\"x and y:\", x and y)\n",
        " print(\"x or y:\", x or y)\n",
        " print(\"not x:\", not x)"
      ],
      "metadata": {
        "colab": {
          "base_uri": "https://localhost:8080/"
        },
        "id": "TpunISUsGb-R",
        "outputId": "d9946348-eb35-4669-908c-7497edd1fc29"
      },
      "execution_count": 9,
      "outputs": [
        {
          "output_type": "stream",
          "name": "stdout",
          "text": [
            "x and y: False\n",
            "x or y: True\n",
            "not x: False\n"
          ]
        }
      ]
    },
    {
      "cell_type": "code",
      "source": [
        " val = input(\"Enter something: \")\n",
        " print(\"As Integer:\", int(val))\n",
        " print(\"As Float:\", float(val))\n",
        " print(\"As Bool:\", bool(val))"
      ],
      "metadata": {
        "colab": {
          "base_uri": "https://localhost:8080/"
        },
        "id": "2peTUBl-Ge_A",
        "outputId": "48c5fc04-6b25-48fe-9901-95ecd1f7d868"
      },
      "execution_count": 11,
      "outputs": [
        {
          "output_type": "stream",
          "name": "stdout",
          "text": [
            "Enter something: 12\n",
            "As Integer: 12\n",
            "As Float: 12.0\n",
            "As Bool: True\n"
          ]
        }
      ]
    },
    {
      "cell_type": "code",
      "source": [
        "x = \"10\"\n",
        "print(int(x))\n",
        "print(float(x))\n",
        "print(bool(x))"
      ],
      "metadata": {
        "colab": {
          "base_uri": "https://localhost:8080/"
        },
        "id": "2_-D8y0QGnnQ",
        "outputId": "9cf63c47-8bed-4e67-f008-cbd29b3773a0"
      },
      "execution_count": 13,
      "outputs": [
        {
          "output_type": "stream",
          "name": "stdout",
          "text": [
            "10\n",
            "10.0\n",
            "True\n"
          ]
        }
      ]
    },
    {
      "cell_type": "code",
      "source": [
        "num = int(input(\"Enter a number: \"))\n",
        "if num > 0:\n",
        "    print(\"Positive\")\n",
        "elif num < 0:\n",
        "    print(\"Negative\")\n",
        "else:\n",
        "    print(\"Zero\")\n",
        "\n",
        ""
      ],
      "metadata": {
        "colab": {
          "base_uri": "https://localhost:8080/"
        },
        "id": "Cw17dfhkHAFE",
        "outputId": "d442888e-14bf-4d20-f471-df58cfb910a5"
      },
      "execution_count": 16,
      "outputs": [
        {
          "output_type": "stream",
          "name": "stdout",
          "text": [
            "Enter a number: 5\n",
            "Positive\n"
          ]
        }
      ]
    },
    {
      "cell_type": "code",
      "source": [
        "for i in range(1, 11):\n",
        "    print(i)\n",
        ""
      ],
      "metadata": {
        "colab": {
          "base_uri": "https://localhost:8080/"
        },
        "id": "s9HO67XpHLNK",
        "outputId": "f0932be2-e49e-49c1-d2f8-0495d9518142"
      },
      "execution_count": 18,
      "outputs": [
        {
          "output_type": "stream",
          "name": "stdout",
          "text": [
            "1\n",
            "2\n",
            "3\n",
            "4\n",
            "5\n",
            "6\n",
            "7\n",
            "8\n",
            "9\n",
            "10\n"
          ]
        }
      ]
    },
    {
      "cell_type": "code",
      "source": [
        "total = 0\n",
        "for i in range(1, 51):\n",
        "    total += i\n",
        "print(\"Sum is:\", total)"
      ],
      "metadata": {
        "colab": {
          "base_uri": "https://localhost:8080/"
        },
        "id": "swAkjlrNHXqE",
        "outputId": "67ddca18-556f-4d62-f21e-d9257157c2ec"
      },
      "execution_count": 19,
      "outputs": [
        {
          "output_type": "stream",
          "name": "stdout",
          "text": [
            "Sum is: 1275\n"
          ]
        }
      ]
    },
    {
      "cell_type": "code",
      "source": [
        "s = input(\"Enter a string: \")\n",
        "i = len(s) - 1\n",
        "rev = \"\"\n",
        "while i >= 0:\n",
        "    rev += s[i]\n",
        "    i -= 1\n",
        "print(\"Reversed:\", rev)"
      ],
      "metadata": {
        "colab": {
          "base_uri": "https://localhost:8080/"
        },
        "id": "tvL77ymYHdb2",
        "outputId": "07b8fb0b-de5b-47f7-8489-086be4a46544"
      },
      "execution_count": 20,
      "outputs": [
        {
          "output_type": "stream",
          "name": "stdout",
          "text": [
            "Enter a string: saad\n",
            "Reversed: daas\n"
          ]
        }
      ]
    },
    {
      "cell_type": "code",
      "source": [
        "n = int(input(\"Enter a number: \"))\n",
        "fact = 1\n",
        "while n > 0:\n",
        "    fact *= n\n",
        "    n -= 1\n",
        "print(\"Factorial is:\", fact)"
      ],
      "metadata": {
        "colab": {
          "base_uri": "https://localhost:8080/"
        },
        "id": "gONgkYC2HmDA",
        "outputId": "49555f25-bb39-4c6d-ed78-31bb223b19cf"
      },
      "execution_count": 21,
      "outputs": [
        {
          "output_type": "stream",
          "name": "stdout",
          "text": [
            "Enter a number: 12\n",
            "Factorial is: 479001600\n"
          ]
        }
      ]
    }
  ]
}